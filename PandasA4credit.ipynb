{
  "nbformat": 4,
  "nbformat_minor": 0,
  "metadata": {
    "colab": {
      "provenance": []
    },
    "kernelspec": {
      "name": "python3",
      "display_name": "Python 3"
    },
    "language_info": {
      "name": "python"
    }
  },
  "cells": [
    {
      "cell_type": "code",
      "execution_count": 33,
      "metadata": {
        "id": "bB6STShIAJ6F"
      },
      "outputs": [],
      "source": [
        "from pandas.core.api import notnull\n",
        "import numpy as np\n",
        "import pandas as pd\n",
        "\n",
        "Q1 = np.array([2, np.nan, 6, 7, 3, 2])\n",
        "\n",
        "Q2 = np.sum([2.,6.,7.,3.,2.])\n",
        "\n",
        "\n",
        "Q3 = pd.Series([4.0, 5.0, 2.0, np.nan, 1.0, np.nan])\n",
        "\n",
        "Q4 = Q3.isnull()\n",
        "\n",
        "Q5 = pd.Series([4.0, 5.0, 2.0, np.nan, 1.0, np.nan])\n",
        "Q5 = Q5[Q5.notnull()]\n",
        "\n",
        "Q6 = pd.Series([4.0, 5.0, 2.0, np.nan, 1.0, np.nan])\n",
        "Q6 = Q6.fillna(100)\n",
        "\n",
        "Q7 = pd.DataFrame([[4, 5.0, 2.0, 9.0, 1.0, 8], [5, 6.0, np.nan, 3.0, np.nan, 2], [6, np.nan, 7.0, np.nan, 4.0, 3]])\n",
        "Q7 = Q7.fillna(100)\n",
        "\n",
        "Q8 = pd.Series([4.0, 5.0, 2.0, np.nan, 1.0, np.nan])\n",
        "Q8 = Q8.dropna()\n",
        "\n",
        "Q9 = pd.DataFrame([[4, 5.0, 2.0, 9.0, 1.0, 8], [5, 6.0, np.nan, 3.0, np.nan, 2], [6, np.nan, 7.0, np.nan, 4.0, 3]])\n",
        "Q9 = Q9.dropna(axis=1)\n",
        "\n",
        "Q10 = pd.DataFrame([[4, 5.0, 2.0, 9.0, 1.0, 8], [5, 6.0, np.nan, 3.0, np.nan, 2], [6, np.nan, 7.0, np.nan, 4.0, 3]])\n",
        "Q10 = Q10.dropna(axis=0)\n",
        "\n",
        "Q11 = pd.DataFrame([[4, 5.0, 2.0, 9.0, 1.0, 8], [5, 6.0, np.nan, 3.0, np.nan, 2], [6, np.nan, 7.0, np.nan, 4.0, 3]])\n",
        "Q11 = Q11.dropna(thresh=5)\n",
        "\n",
        "Q12 = pd.DataFrame([[4, 5.0, 2.0, 9.0, 1.0, 8], [5, 6.0, np.nan, 3.0, np.nan, 2], [6, np.nan, 7.0, np.nan, 4.0, 3]])\n",
        "Q12['6'] = np.nan\n"
      ]
    }
  ]
}